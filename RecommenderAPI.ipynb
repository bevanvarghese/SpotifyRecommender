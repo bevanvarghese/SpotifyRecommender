{
 "cells": [
  {
   "cell_type": "markdown",
   "metadata": {},
   "source": [
    "# Recommender with Spotify API Integration\n",
    "\n",
    "## 1: Create Spotify Authorization Token\n",
    "\n",
    "Due to Spotify API restrictions, you need to add SpotifyForDevelopers to your Spotify account to be able to run the code in this notebook. Since you can't \"log in\" per se from the notebook itself, creating this token allows you to validate your credentials and retrieve information from your Spotify account. \n",
    "\n",
    "### Steps\n",
    "\n",
    "1. Go to https://developer.spotify.com/dashboard/ and log in (or sign up if you don't already have an account).  \n",
    "2. Go to https://developer.spotify.com/console/post-playlists/ and press \"Get Token\".\n",
    "3. Select the following checkboxes:  \n",
    "    a. playlist-modify-public  \n",
    "    b. playlist-modify-private  \n",
    "    c. user-read-recently-played  \n",
    "4. Press \"Request Token\" and \"Agree\". Now you should see a field value under **OAuth Token**. Copy this, as we'll need it later.  \n",
    "5. Next, open Spotify. Open the drop-down next to your name in the top-right corner, and select **Account**.  \n",
    "6. Copy the **Username** as we'll need it later.  \n",
    "7. Open a terminal on your system. \n",
    "8. Enter the 2 following commands one by one in your terminal, replacing the <> with the variables you copied earlier. This basically allows you to validate your Spotify credentials without hard-coding it in this notebook's code cells. If you're on a Mac, replace the _SET_ keyword with _export_.  \n",
    "**setx SPOTIFY_AUTHORIZATION_TOKEN \\<yourOAuthToken\\>  \n",
    "setx SPOTIFY_USER_ID \\<yourUsername\\>**  \n",
    "\n",
    "<img src=\"./terminal.JPG\">\n",
    "\n",
    "Restart your system for the changes to take effect. \n",
    "\n",
    "**Note: Spotify Access Tokens expire every hour, so you may need to go through the previous steps again if any of the code cells fail.**"
   ]
  },
  {
   "cell_type": "code",
   "execution_count": 1,
   "metadata": {},
   "outputs": [
    {
     "name": "stdout",
     "output_type": "stream",
     "text": [
      "BQAk5yNsAbseA9jZAngj_tvO1rvXS1Of62ByU0Wbn3-Stx1-khEQqQSx6vCzX7R8PVmiZUZ9EIN2U83JzexaiQqxb1b467KsUKpu9pNFhs9PRTuyYubN2WElM9N2s7hS7sQvlHuS0oi9Gii23Kd7dKDs1Vm6OHzDBQIZC_D1VF3f6a9F9y1UI8r0jjM6M-rVHL3PmLGQ780qkVA0QR1W5hmmKJtEkcX4c5ZyTO1HwoeO0yTr3eAAYI8FbqQ0PCmfNYE9ug\n",
      "31eul4dtufccxjoldxw6veem35mq\n"
     ]
    }
   ],
   "source": [
    "#!pip install spotipy\n",
    "import spotipy\n",
    "import json\n",
    "import os\n",
    "import requests\n",
    "\n",
    "# instantiate global variables\n",
    "auth_token = os.environ.get(\"SPOTIFY_AUTHORIZATION_TOKEN\") \n",
    "user_id = os.getenv(\"SPOTIFY_USER_ID\")\n",
    "\n",
    "# if the below lines returns None, please restart your system\n",
    "print(auth_token)\n",
    "print(user_id)"
   ]
  },
  {
   "cell_type": "code",
   "execution_count": 2,
   "metadata": {},
   "outputs": [],
   "source": [
    "def getAPIrequest(auth_token, url):\n",
    "    \"\"\"\n",
    "    Function to place GET requests to the Spotify API.\n",
    "    \"\"\"\n",
    "    response = requests.get(\n",
    "            url,\n",
    "            headers={\n",
    "                \"Content-Type\": \"application/json\",\n",
    "                \"Authorization\": f\"Bearer {auth_token}\"\n",
    "            }\n",
    "        )\n",
    "    return response\n",
    "\n",
    "def getLastPlayedSongs(numOfTracks):\n",
    "    \"\"\"\n",
    "    Function to retrieve the last numOfTracks songs played by the user.\n",
    "    \"\"\"\n",
    "    url = f\"https://api.spotify.com/v1/me/player/recently-played?limit={numOfTracks}\"\n",
    "    response = getAPIrequest(auth_token, url)\n",
    "    response_json = response.json()\n",
    "    songs = []\n",
    "    #print(json.dumps(response_json, indent=4))\n",
    "    for song in response_json[\"items\"]:\n",
    "        songs.append(song)\n",
    "    #print(songs)\n",
    "    return songs\n"
   ]
  },
  {
   "cell_type": "markdown",
   "metadata": {},
   "source": [
    "## 2: Retrieve User's Recently Played Songs\n",
    "https://developer.spotify.com/console/get-recently-played/\n",
    " \n",
    "JSON format is specified here. "
   ]
  },
  {
   "cell_type": "code",
   "execution_count": 3,
   "metadata": {},
   "outputs": [
    {
     "name": "stdout",
     "output_type": "stream",
     "text": [
      "How many tracks would you like to visualize? 2\n",
      "\n",
      "Here are the last 2 tracks you listened to on Spotify:\n",
      "\n",
      " 1- {'track': {'album': {'album_type': 'single', 'artists': [{'external_urls': {'spotify': 'https://open.spotify.com/artist/2XVJkKNBPA834yV4NKISBw'}, 'href': 'https://api.spotify.com/v1/artists/2XVJkKNBPA834yV4NKISBw', 'id': '2XVJkKNBPA834yV4NKISBw', 'name': 'Southside Trio', 'type': 'artist', 'uri': 'spotify:artist:2XVJkKNBPA834yV4NKISBw'}], 'available_markets': ['AD', 'AE', 'AG', 'AL', 'AM', 'AO', 'AR', 'AT', 'AU', 'AZ', 'BA', 'BB', 'BD', 'BE', 'BF', 'BG', 'BH', 'BI', 'BJ', 'BN', 'BO', 'BR', 'BS', 'BT', 'BW', 'BY', 'BZ', 'CA', 'CH', 'CI', 'CL', 'CM', 'CO', 'CR', 'CV', 'CW', 'CY', 'CZ', 'DE', 'DJ', 'DK', 'DM', 'DO', 'DZ', 'EC', 'EE', 'EG', 'ES', 'FI', 'FJ', 'FM', 'FR', 'GA', 'GB', 'GD', 'GE', 'GH', 'GM', 'GN', 'GQ', 'GR', 'GT', 'GW', 'GY', 'HK', 'HN', 'HR', 'HT', 'HU', 'ID', 'IE', 'IL', 'IN', 'IS', 'IT', 'JM', 'JO', 'JP', 'KE', 'KG', 'KH', 'KI', 'KM', 'KN', 'KR', 'KW', 'KZ', 'LA', 'LB', 'LC', 'LI', 'LK', 'LR', 'LS', 'LT', 'LU', 'LV', 'MA', 'MC', 'MD', 'ME', 'MG', 'MH', 'MK', 'ML', 'MN', 'MO', 'MR', 'MT', 'MU', 'MV', 'MW', 'MX', 'MY', 'MZ', 'NA', 'NE', 'NG', 'NI', 'NL', 'NO', 'NP', 'NR', 'NZ', 'OM', 'PA', 'PE', 'PG', 'PH', 'PK', 'PL', 'PS', 'PT', 'PW', 'PY', 'QA', 'RO', 'RS', 'RU', 'RW', 'SA', 'SB', 'SC', 'SE', 'SG', 'SI', 'SK', 'SL', 'SM', 'SN', 'SR', 'ST', 'SV', 'SZ', 'TD', 'TG', 'TH', 'TL', 'TN', 'TO', 'TR', 'TT', 'TV', 'TW', 'TZ', 'UA', 'UG', 'US', 'UY', 'UZ', 'VC', 'VN', 'VU', 'WS', 'XK', 'ZA', 'ZM', 'ZW'], 'external_urls': {'spotify': 'https://open.spotify.com/album/2otEcJ7pOUvnnX4nO34aJL'}, 'href': 'https://api.spotify.com/v1/albums/2otEcJ7pOUvnnX4nO34aJL', 'id': '2otEcJ7pOUvnnX4nO34aJL', 'images': [{'height': 640, 'url': 'https://i.scdn.co/image/ab67616d0000b27367a53566d0155a7a8b5c14e3', 'width': 640}, {'height': 300, 'url': 'https://i.scdn.co/image/ab67616d00001e0267a53566d0155a7a8b5c14e3', 'width': 300}, {'height': 64, 'url': 'https://i.scdn.co/image/ab67616d0000485167a53566d0155a7a8b5c14e3', 'width': 64}], 'name': 'The Law of Attraction', 'release_date': '2021-04-06', 'release_date_precision': 'day', 'total_tracks': 3, 'type': 'album', 'uri': 'spotify:album:2otEcJ7pOUvnnX4nO34aJL'}, 'artists': [{'external_urls': {'spotify': 'https://open.spotify.com/artist/2XVJkKNBPA834yV4NKISBw'}, 'href': 'https://api.spotify.com/v1/artists/2XVJkKNBPA834yV4NKISBw', 'id': '2XVJkKNBPA834yV4NKISBw', 'name': 'Southside Trio', 'type': 'artist', 'uri': 'spotify:artist:2XVJkKNBPA834yV4NKISBw'}], 'available_markets': ['AD', 'AE', 'AG', 'AL', 'AM', 'AO', 'AR', 'AT', 'AU', 'AZ', 'BA', 'BB', 'BD', 'BE', 'BF', 'BG', 'BH', 'BI', 'BJ', 'BN', 'BO', 'BR', 'BS', 'BT', 'BW', 'BY', 'BZ', 'CA', 'CH', 'CI', 'CL', 'CM', 'CO', 'CR', 'CV', 'CW', 'CY', 'CZ', 'DE', 'DJ', 'DK', 'DM', 'DO', 'DZ', 'EC', 'EE', 'EG', 'ES', 'FI', 'FJ', 'FM', 'FR', 'GA', 'GB', 'GD', 'GE', 'GH', 'GM', 'GN', 'GQ', 'GR', 'GT', 'GW', 'GY', 'HK', 'HN', 'HR', 'HT', 'HU', 'ID', 'IE', 'IL', 'IN', 'IS', 'IT', 'JM', 'JO', 'JP', 'KE', 'KG', 'KH', 'KI', 'KM', 'KN', 'KR', 'KW', 'KZ', 'LA', 'LB', 'LC', 'LI', 'LK', 'LR', 'LS', 'LT', 'LU', 'LV', 'MA', 'MC', 'MD', 'ME', 'MG', 'MH', 'MK', 'ML', 'MN', 'MO', 'MR', 'MT', 'MU', 'MV', 'MW', 'MX', 'MY', 'MZ', 'NA', 'NE', 'NG', 'NI', 'NL', 'NO', 'NP', 'NR', 'NZ', 'OM', 'PA', 'PE', 'PG', 'PH', 'PK', 'PL', 'PS', 'PT', 'PW', 'PY', 'QA', 'RO', 'RS', 'RU', 'RW', 'SA', 'SB', 'SC', 'SE', 'SG', 'SI', 'SK', 'SL', 'SM', 'SN', 'SR', 'ST', 'SV', 'SZ', 'TD', 'TG', 'TH', 'TL', 'TN', 'TO', 'TR', 'TT', 'TV', 'TW', 'TZ', 'UA', 'UG', 'US', 'UY', 'UZ', 'VC', 'VN', 'VU', 'WS', 'XK', 'ZA', 'ZM', 'ZW'], 'disc_number': 1, 'duration_ms': 151776, 'explicit': False, 'external_ids': {'isrc': 'SE5W32101050'}, 'external_urls': {'spotify': 'https://open.spotify.com/track/5f2btCjcN87enR8OBijRBz'}, 'href': 'https://api.spotify.com/v1/tracks/5f2btCjcN87enR8OBijRBz', 'id': '5f2btCjcN87enR8OBijRBz', 'is_local': False, 'name': 'The Law of Attraction', 'popularity': 38, 'preview_url': 'https://p.scdn.co/mp3-preview/45e34877875f9a9d80e84746952d0dd6e314676d?cid=774b29d4f13844c495f206cafdad9c86', 'track_number': 1, 'type': 'track', 'uri': 'spotify:track:5f2btCjcN87enR8OBijRBz'}, 'played_at': '2021-04-23T09:06:45.912Z', 'context': {'external_urls': {'spotify': 'https://open.spotify.com/playlist/37i9dQZF1DWV7EzJMK2FUI'}, 'href': 'https://api.spotify.com/v1/playlists/37i9dQZF1DWV7EzJMK2FUI', 'type': 'playlist', 'uri': 'spotify:playlist:37i9dQZF1DWV7EzJMK2FUI'}}\n",
      "\n",
      " 2- {'track': {'album': {'album_type': 'album', 'artists': [{'external_urls': {'spotify': 'https://open.spotify.com/artist/1QDou4hCker2eGblLzIq80'}, 'href': 'https://api.spotify.com/v1/artists/1QDou4hCker2eGblLzIq80', 'id': '1QDou4hCker2eGblLzIq80', 'name': 'Alan Pasqua', 'type': 'artist', 'uri': 'spotify:artist:1QDou4hCker2eGblLzIq80'}, {'external_urls': {'spotify': 'https://open.spotify.com/artist/1j4llYRtsnwcHIM0SrDstl'}, 'href': 'https://api.spotify.com/v1/artists/1j4llYRtsnwcHIM0SrDstl', 'id': '1j4llYRtsnwcHIM0SrDstl', 'name': 'Darek Oleszkiewicz', 'type': 'artist', 'uri': 'spotify:artist:1j4llYRtsnwcHIM0SrDstl'}, {'external_urls': {'spotify': 'https://open.spotify.com/artist/3Bm6MhzPUczH3Pej2FNqGi'}, 'href': 'https://api.spotify.com/v1/artists/3Bm6MhzPUczH3Pej2FNqGi', 'id': '3Bm6MhzPUczH3Pej2FNqGi', 'name': 'Peter Erskine', 'type': 'artist', 'uri': 'spotify:artist:3Bm6MhzPUczH3Pej2FNqGi'}], 'available_markets': ['AD', 'AE', 'AG', 'AL', 'AM', 'AO', 'AR', 'AT', 'AU', 'AZ', 'BA', 'BB', 'BD', 'BE', 'BF', 'BG', 'BH', 'BI', 'BJ', 'BN', 'BO', 'BR', 'BS', 'BT', 'BW', 'BY', 'BZ', 'CA', 'CH', 'CI', 'CL', 'CM', 'CO', 'CR', 'CV', 'CY', 'CZ', 'DE', 'DJ', 'DK', 'DM', 'DO', 'DZ', 'EC', 'EE', 'EG', 'ES', 'FI', 'FJ', 'FM', 'FR', 'GA', 'GB', 'GD', 'GE', 'GH', 'GM', 'GN', 'GQ', 'GR', 'GT', 'GW', 'GY', 'HK', 'HN', 'HR', 'HT', 'HU', 'ID', 'IE', 'IL', 'IN', 'IS', 'IT', 'JM', 'JO', 'JP', 'KE', 'KG', 'KH', 'KI', 'KM', 'KN', 'KR', 'KW', 'KZ', 'LA', 'LB', 'LC', 'LI', 'LK', 'LR', 'LS', 'LT', 'LU', 'LV', 'MA', 'MC', 'MD', 'ME', 'MG', 'MH', 'MK', 'ML', 'MN', 'MO', 'MR', 'MT', 'MU', 'MV', 'MW', 'MX', 'MY', 'MZ', 'NA', 'NE', 'NG', 'NI', 'NL', 'NO', 'NP', 'NR', 'NZ', 'OM', 'PA', 'PE', 'PG', 'PH', 'PK', 'PL', 'PS', 'PT', 'PW', 'PY', 'QA', 'RO', 'RS', 'RU', 'RW', 'SA', 'SB', 'SC', 'SE', 'SG', 'SI', 'SK', 'SL', 'SM', 'SN', 'SR', 'ST', 'SV', 'SZ', 'TD', 'TG', 'TH', 'TL', 'TN', 'TO', 'TR', 'TT', 'TV', 'TW', 'TZ', 'UA', 'UG', 'US', 'UY', 'UZ', 'VC', 'VN', 'VU', 'WS', 'XK', 'ZA', 'ZM', 'ZW'], 'external_urls': {'spotify': 'https://open.spotify.com/album/2jvq28Yfjk0Wal4cH5xUtr'}, 'href': 'https://api.spotify.com/v1/albums/2jvq28Yfjk0Wal4cH5xUtr', 'id': '2jvq28Yfjk0Wal4cH5xUtr', 'images': [{'height': 640, 'url': 'https://i.scdn.co/image/ab67616d0000b2735dd561ccfefc3a989fbdb983', 'width': 640}, {'height': 300, 'url': 'https://i.scdn.co/image/ab67616d00001e025dd561ccfefc3a989fbdb983', 'width': 300}, {'height': 64, 'url': 'https://i.scdn.co/image/ab67616d000048515dd561ccfefc3a989fbdb983', 'width': 64}], 'name': 'My New Old Friend', 'release_date': '2005', 'release_date_precision': 'year', 'total_tracks': 11, 'type': 'album', 'uri': 'spotify:album:2jvq28Yfjk0Wal4cH5xUtr'}, 'artists': [{'external_urls': {'spotify': 'https://open.spotify.com/artist/1QDou4hCker2eGblLzIq80'}, 'href': 'https://api.spotify.com/v1/artists/1QDou4hCker2eGblLzIq80', 'id': '1QDou4hCker2eGblLzIq80', 'name': 'Alan Pasqua', 'type': 'artist', 'uri': 'spotify:artist:1QDou4hCker2eGblLzIq80'}], 'available_markets': ['AD', 'AE', 'AG', 'AL', 'AM', 'AO', 'AR', 'AT', 'AU', 'AZ', 'BA', 'BB', 'BD', 'BE', 'BF', 'BG', 'BH', 'BI', 'BJ', 'BN', 'BO', 'BR', 'BS', 'BT', 'BW', 'BY', 'BZ', 'CA', 'CH', 'CI', 'CL', 'CM', 'CO', 'CR', 'CV', 'CY', 'CZ', 'DE', 'DJ', 'DK', 'DM', 'DO', 'DZ', 'EC', 'EE', 'EG', 'ES', 'FI', 'FJ', 'FM', 'FR', 'GA', 'GB', 'GD', 'GE', 'GH', 'GM', 'GN', 'GQ', 'GR', 'GT', 'GW', 'GY', 'HK', 'HN', 'HR', 'HT', 'HU', 'ID', 'IE', 'IL', 'IN', 'IS', 'IT', 'JM', 'JO', 'JP', 'KE', 'KG', 'KH', 'KI', 'KM', 'KN', 'KR', 'KW', 'KZ', 'LA', 'LB', 'LC', 'LI', 'LK', 'LR', 'LS', 'LT', 'LU', 'LV', 'MA', 'MC', 'MD', 'ME', 'MG', 'MH', 'MK', 'ML', 'MN', 'MO', 'MR', 'MT', 'MU', 'MV', 'MW', 'MX', 'MY', 'MZ', 'NA', 'NE', 'NG', 'NI', 'NL', 'NO', 'NP', 'NR', 'NZ', 'OM', 'PA', 'PE', 'PG', 'PH', 'PK', 'PL', 'PS', 'PT', 'PW', 'PY', 'QA', 'RO', 'RS', 'RU', 'RW', 'SA', 'SB', 'SC', 'SE', 'SG', 'SI', 'SK', 'SL', 'SM', 'SN', 'SR', 'ST', 'SV', 'SZ', 'TD', 'TG', 'TH', 'TL', 'TN', 'TO', 'TR', 'TT', 'TV', 'TW', 'TZ', 'UA', 'UG', 'US', 'UY', 'UZ', 'VC', 'VN', 'VU', 'WS', 'XK', 'ZA', 'ZM', 'ZW'], 'disc_number': 1, 'duration_ms': 358453, 'explicit': False, 'external_ids': {'isrc': 'USA4K0512209'}, 'external_urls': {'spotify': 'https://open.spotify.com/track/4ytxg5HNzbG1Y8CdZLtQj2'}, 'href': 'https://api.spotify.com/v1/tracks/4ytxg5HNzbG1Y8CdZLtQj2', 'id': '4ytxg5HNzbG1Y8CdZLtQj2', 'is_local': False, 'name': 'Wichita Lineman', 'popularity': 50, 'preview_url': 'https://p.scdn.co/mp3-preview/c64757d38598bd8e55398acc51db171de551ba8e?cid=774b29d4f13844c495f206cafdad9c86', 'track_number': 9, 'type': 'track', 'uri': 'spotify:track:4ytxg5HNzbG1Y8CdZLtQj2'}, 'played_at': '2021-04-23T09:06:15.025Z', 'context': {'external_urls': {'spotify': 'https://open.spotify.com/playlist/37i9dQZF1DWV7EzJMK2FUI'}, 'href': 'https://api.spotify.com/v1/playlists/37i9dQZF1DWV7EzJMK2FUI', 'type': 'playlist', 'uri': 'spotify:playlist:37i9dQZF1DWV7EzJMK2FUI'}}\n"
     ]
    }
   ],
   "source": [
    "num = int(input(\"How many tracks would you like to visualize? \"))\n",
    "lastPlayed = getLastPlayedSongs(num)\n",
    "print(f\"\\nHere are the last {num} tracks you listened to on Spotify:\")\n",
    "for index, track in enumerate(lastPlayed):\n",
    "    print(f\"\\n {index+1}- {track}\")"
   ]
  },
  {
   "cell_type": "markdown",
   "metadata": {},
   "source": [
    "## 3: Get User's Preferences"
   ]
  },
  {
   "cell_type": "code",
   "execution_count": 4,
   "metadata": {},
   "outputs": [
    {
     "name": "stdout",
     "output_type": "stream",
     "text": [
      "\n",
      "Enter a list of up to 5 tracks to be used as seed tracks: 1\n"
     ]
    }
   ],
   "source": [
    "ref_tracks = input(\"\\nEnter a list of up to 5 tracks to be used as seed tracks: \") # enter space separated number of the track\n",
    "ref_tracks = ref_tracks.split()\n",
    "seed_tracks = [lastPlayed[int(i)-1] for i in ref_tracks]\n",
    "#print(seed_tracks)"
   ]
  },
  {
   "cell_type": "markdown",
   "metadata": {},
   "source": [
    "## 4: Convert to Model-friendly Input"
   ]
  },
  {
   "cell_type": "code",
   "execution_count": 6,
   "metadata": {},
   "outputs": [
    {
     "name": "stdout",
     "output_type": "stream",
     "text": [
      "{'The Law of Attraction': '2021'}\n"
     ]
    }
   ],
   "source": [
    "def get_song_info(song_list):\n",
    "    \"\"\"\n",
    "    Function to get the name and release year of seed tracks. \n",
    "    \"\"\"\n",
    "    song_dict = {}\n",
    "    for item in range(len(song_list)):\n",
    "        x = {song_list[item]['track']['album']['name']:song_list[item]['track']['album']['release_date'][:4]}\n",
    "        song_dict.update(x)\n",
    "    return song_dict\n",
    "\n",
    "print(get_song_info(seed_tracks))"
   ]
  },
  {
   "cell_type": "markdown",
   "metadata": {},
   "source": [
    "## 5: Make Recommendations"
   ]
  },
  {
   "cell_type": "code",
   "execution_count": null,
   "metadata": {},
   "outputs": [],
   "source": []
  }
 ],
 "metadata": {
  "kernelspec": {
   "display_name": "Python 3",
   "language": "python",
   "name": "python3"
  },
  "language_info": {
   "codemirror_mode": {
    "name": "ipython",
    "version": 3
   },
   "file_extension": ".py",
   "mimetype": "text/x-python",
   "name": "python",
   "nbconvert_exporter": "python",
   "pygments_lexer": "ipython3",
   "version": "3.8.2"
  }
 },
 "nbformat": 4,
 "nbformat_minor": 4
}
